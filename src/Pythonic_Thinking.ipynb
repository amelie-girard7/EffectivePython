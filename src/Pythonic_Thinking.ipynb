{
 "cells": [
  {
   "cell_type": "markdown",
   "metadata": {},
   "source": [
    "Adhering to PEP 8, Python's official style guide, enhances code readability and maintainability. It facilitates collaboration and helps avoid common errors. The guide is regularly updated and worth reading. https://peps.python.org/pep-0008/\n",
    "This a Summary of the few rules you should follow:"
   ]
  },
  {
   "cell_type": "markdown",
   "metadata": {},
   "source": [
    "## Whitespace Guidelines\n",
    "\n",
    "In Python, the role of whitespace is crucial for syntax and readability. Python developers place high importance on the impact of whitespace for code clarity. Here are some best practices regarding whitespace:\n",
    "\n",
    "- Use spaces over tabs for indentation.\n",
    "- Employ four spaces for each level of meaningful indentation.\n",
    "- Limit lines to 79 characters or fewer.\n",
    "- For line continuations, add an extra four spaces to the regular indentation level.\n",
    "- Separate functions and classes by two blank lines in a file.\n",
    "- Within a class, maintain a single blank line between methods.\n",
    "- In dictionaries, avoid whitespace between keys and colons, and place a single space before the value if it's on the same line.\n",
    "- Use a single space before and after the equals sign in variable assignments.\n",
    "- For type annotations, keep the variable name adjacent to the colon, followed by a space before the type specification.\n",
    "\n",
    "## Naming\n",
    "PEP 8 provides specific naming conventions for various elements in Python to enhance code readability. Adhere to the following naming guidelines:\n",
    "\n",
    "- For functions, variables, and attributes, use `lowercase_underscore` naming.\n",
    "- Protected instance attributes should follow the `_leading_underscore` format.\n",
    "- Private instance attributes should adopt the `__double_leading_underscore` format.\n",
    "- Classes and exceptions should use `CapitalizedWord` naming.\n",
    "- Module-level constants should be in `ALL_CAPS`.\n",
    "- In class instance methods, the first parameter should be named `self` to refer to the object itself.\n",
    "- In class methods, the first parameter should be named `cls` to refer to the class itself.\n",
    "\n",
    "## Expressions and Statements Guidelines\n",
    "The Zen of Python emphasizes having a single, clear way to achieve any task, and PEP 8 outlines this principle for expressions and statements:\n",
    "\n",
    "- Opt for inline negation (`if a is not b`) over negating positive expressions (`if not a is b`).\n",
    "- To check for empty containers like `[]` or `''`, use `if not somelist` instead of comparing length to zero.\n",
    "- Conversely, `if somelist` is implicitly True for non-empty containers like `[1]` or `'hi'`.\n",
    "- Steer clear of single-line `if` statements, `for` and `while` loops, and `except` compound statements; expand them over multiple lines for better readability.\n",
    "- When an expression doesn't fit on a single line, enclose it in parentheses and add line breaks and indentation for enhanced clarity.\n",
    "- For multiline expressions, prefer using parentheses over the `\\` line continuation character.\n",
    "\n",
    "## Imports\n",
    "PEP 8 provides specific recommendations for importing modules and using them:\n",
    "\n",
    "- Place all import statements, including `from x import y`, at the beginning of the file.\n",
    "- Prefer absolute module names over relative names when importing. For instance, use `from bar import foo` instead of just `import foo` when within the `bar` package.\n",
    "- If relative imports are unavoidable, employ explicit syntax like `from . import foo`.\n",
    "- Arrange imports into three sections: standard library modules, third-party modules, and your own modules. Within each section, sort imports alphabetically.\n",
    "\n",
    "\n",
    "### Note\n",
    "The Pylint tool ([Pylint Website](https://www.pylint.org)) serves as a widely-used static analysis tool for Python code. It automates adherence to the PEP 8 guidelines and identifies a variety of common mistakes in Python applications. Numerous IDEs and text editors offer integrated linting capabilities or support comparable extensions."
   ]
  },
  {
   "cell_type": "markdown",
   "metadata": {},
   "source": [
    "###  Understanding the Distinctions Between bytes and str Types in Python\n",
    "Python offers two distinct types for handling sequences of characters: bytes and str. The bytes type holds raw, unsigned 8-bit values, often represented using ASCII encoding:"
   ]
  },
  {
   "cell_type": "code",
   "execution_count": 3,
   "metadata": {},
   "outputs": [
    {
     "name": "stdout",
     "output_type": "stream",
     "text": [
      "[104, 101, 108, 108, 111]\n",
      "b'hello'\n"
     ]
    }
   ],
   "source": [
    "a = b'h\\x65llo'\n",
    "print(list(a))\n",
    "print(a)\n",
    "# Output: [104, 101, 108, 108, 111]\n",
    "# Output: b'hello'\n"
   ]
  },
  {
   "cell_type": "markdown",
   "metadata": {},
   "source": [
    "On the other hand, the str type contains Unicode code points, which represent characters from various human languages:"
   ]
  },
  {
   "cell_type": "code",
   "execution_count": 4,
   "metadata": {},
   "outputs": [
    {
     "name": "stdout",
     "output_type": "stream",
     "text": [
      "['a', '̀', ' ', 'p', 'r', 'o', 'p', 'o', 's']\n",
      "à propos\n"
     ]
    }
   ],
   "source": [
    "a = 'a\\u0300 propos'\n",
    "print(list(a))\n",
    "print(a)\n",
    "# Output: ['a', 'ˋ', ' ', 'p', 'r', 'o', 'p', 'o', 's']\n",
    "# Output: à propos"
   ]
  },
  {
   "cell_type": "markdown",
   "metadata": {},
   "source": [
    "\n",
    "\n",
    "It's crucial to note that `str` objects do not have an associated binary encoding, whereas `bytes` objects lack a text encoding. Conversion between these types involves using the `encode` method for `str` and the `decode` method for `bytes`.\n",
    "\n",
    "To maintain robustness, it's recommended to perform encoding and decoding at the furthest boundaries of your application interfaces, commonly referred to as the \"Unicode sandwich\" approach. Your core logic should use the `str` type with Unicode data and should not make assumptions about character encodings."
   ]
  },
  {
   "cell_type": "markdown",
   "metadata": {},
   "source": [
    "\n",
    "#### Common Scenarios and Gotchas\n",
    "\n",
    "You may encounter two prevalent situations:\n",
    "\n",
    "1. You need to manipulate raw 8-bit sequences that contain UTF-8 encoded strings or other encodings.\n",
    "2. You need to manipulate Unicode strings without any specific encoding.\n",
    "\n",
    "Two helper functions are often necessary to convert between these situations:\n",
    "\n",
    "- `to_str`: Takes a `bytes` or `str` instance and returns a `str`.\n"
   ]
  },
  {
   "cell_type": "code",
   "execution_count": 9,
   "metadata": {},
   "outputs": [
    {
     "name": "stdout",
     "output_type": "stream",
     "text": [
      "'foo'\n",
      "'bar'\n"
     ]
    }
   ],
   "source": [
    "def to_str(bytes_or_str):\n",
    "    if isinstance(bytes_or_str, bytes):\n",
    "        value = bytes_or_str.decode('utf-8')\n",
    "    else:\n",
    "        value = bytes_or_str\n",
    "    return value  # Instance of str\n",
    "print(repr(to_str(b'foo')))\n",
    "print(repr(to_str('bar')))\n",
    "\n",
    "#output 'foo'\n",
    "#output 'bar'"
   ]
  },
  {
   "cell_type": "markdown",
   "metadata": {},
   "source": [
    "- `to_bytes`: Takes a `bytes` or `str` instance and returns a `bytes`."
   ]
  },
  {
   "cell_type": "code",
   "execution_count": 10,
   "metadata": {},
   "outputs": [
    {
     "name": "stdout",
     "output_type": "stream",
     "text": [
      "b'foo'\n",
      "b'bar'\n"
     ]
    }
   ],
   "source": [
    "def to_bytes(bytes_or_str):\n",
    "    if isinstance(bytes_or_str, str):\n",
    "        value = bytes_or_str.encode('utf-8')\n",
    "    else:\n",
    "        value = bytes_or_str\n",
    "    return value  # Instance of bytes\n",
    "print(repr(to_bytes(b'foo')))\n",
    "print(repr(to_bytes('bar')))\n",
    "\n",
    "#output 'foo'\n",
    "#output 'bar'"
   ]
  },
  {
   "cell_type": "markdown",
   "metadata": {},
   "source": [
    "Moreover, there are significant pitfalls when working with `bytes` and `str`:\n",
    "\n",
    "1. Although `bytes` and `str` behave similarly, their instances are incompatible. Care must be taken to ensure you're using the correct type.\n"
   ]
  },
  {
   "cell_type": "code",
   "execution_count": 11,
   "metadata": {},
   "outputs": [
    {
     "name": "stdout",
     "output_type": "stream",
     "text": [
      "b'onetwo'\n",
      "onetwo\n"
     ]
    }
   ],
   "source": [
    "print(b'one' + b'two')\n",
    "print('one' + 'two')"
   ]
  },
  {
   "cell_type": "markdown",
   "metadata": {},
   "source": [
    "2. File operations default to Unicode strings, which can cause unexpected issues, particularly for those accustomed to Python 2.x."
   ]
  },
  {
   "cell_type": "code",
   "execution_count": 12,
   "metadata": {},
   "outputs": [
    {
     "ename": "TypeError",
     "evalue": "can't concat str to bytes",
     "output_type": "error",
     "traceback": [
      "\u001b[1;31m---------------------------------------------------------------------------\u001b[0m",
      "\u001b[1;31mTypeError\u001b[0m                                 Traceback (most recent call last)",
      "\u001b[1;32mc:\\Users\\24419222_admin\\OneDrive - UTS\\Documents\\GitHub\\EffectivePython\\src\\Pythonic_Thinking.ipynb Cell 16\u001b[0m line \u001b[0;36m1\n\u001b[1;32m----> <a href='vscode-notebook-cell:/c%3A/Users/24419222_admin/OneDrive%20-%20UTS/Documents/GitHub/EffectivePython/src/Pythonic_Thinking.ipynb#X23sZmlsZQ%3D%3D?line=0'>1</a>\u001b[0m \u001b[39mb\u001b[39;49m\u001b[39m'\u001b[39;49m\u001b[39mone\u001b[39;49m\u001b[39m'\u001b[39;49m \u001b[39m+\u001b[39;49m \u001b[39m'\u001b[39;49m\u001b[39mtwo\u001b[39;49m\u001b[39m'\u001b[39;49m\n",
      "\u001b[1;31mTypeError\u001b[0m: can't concat str to bytes"
     ]
    }
   ],
   "source": [
    "b'one' + 'two'"
   ]
  },
  {
   "cell_type": "markdown",
   "metadata": {},
   "source": [
    "#### Key Points to Remember\n",
    "\n",
    "- `bytes` holds 8-bit values; `str` holds Unicode code points.\n",
    "- Use helper functions to ensure type compatibility.\n",
    "- `bytes` and `str` are not operator-compatible (e.g., `+`, `==`, `>`, `%`).\n",
    "- Always use binary mode (`'rb'`, `'wb'`) for file operations if dealing with binary data.\n",
    "- Be cautious about your system's default text encoding; specify the encoding explicitly when in doubt."
   ]
  },
  {
   "cell_type": "markdown",
   "metadata": {},
   "source": [
    "## Favor Interpolated F-Strings Over C-Style Formatting and `str.format`\n",
    "\n",
    "Strings are ubiquitous in Python code, serving various purposes such as message rendering in UIs, command-line utilities, data writing to files and network sockets, specifying exception details, and aiding in debugging.\n",
    "\n",
    "String formatting is the technique of merging a predefined text template with variable data to create a single, comprehensible message stored as a string. Python offers four distinct methods for string formatting, integrated into the language and its standard library. Except for one method, which is discussed last in this section, the others have notable limitations that you should be aware of and steer clear of.\n",
    "\n",
    "The `%` operator is the most traditional method for string formatting in Python. In this approach, the template text is placed on the left side of the operator within a format string, and the data values to be inserted are provided on the right side, either as a single entity or a tuple containing multiple values. For instance, the `%` operator can be used to transform hard-to-understand binary and hexadecimal representations into strings of integers."
   ]
  },
  {
   "cell_type": "code",
   "execution_count": 13,
   "metadata": {},
   "outputs": [
    {
     "name": "stdout",
     "output_type": "stream",
     "text": [
      "Binary is 187, hex is 3167\n"
     ]
    }
   ],
   "source": [
    "a = 0b10111011\n",
    "b = 0xc5f\n",
    "print('Binary is %d, hex is %d' % (a, b))"
   ]
  },
  {
   "cell_type": "markdown",
   "metadata": {},
   "source": [
    "The format string incorporates format specifiers, such as `%d`, which act as placeholders to be substituted by values specified on the right-hand side of the formatting expression. This syntax for format specifiers is inherited from C's `printf` function—a legacy that Python shares with other programming languages. Python accommodates all standard `printf` options, including `%s`, `%x`, and `%f` format specifiers, along with control over aspects like decimal precision, padding, fill, and text alignment. Many programmers who are new to Python initially opt for C-style format strings due to their familiarity and ease of use.\n",
    "\n",
    "However, there are four main issues with using C-style format strings in Python.\n",
    "\n",
    "The first issue is related to type and order sensitivity. If you modify the type or sequence of the data values in the tuple on the right side of the formatting expression, you risk encountering errors stemming from type conversion mismatches. For instance, consider a basic formatting expression that functions correctly:"
   ]
  },
  {
   "cell_type": "code",
   "execution_count": 14,
   "metadata": {},
   "outputs": [
    {
     "name": "stdout",
     "output_type": "stream",
     "text": [
      "my_var     = 1.23\n"
     ]
    }
   ],
   "source": [
    "key = 'my_var'\n",
    "value = 1.234\n",
    "formatted = '%-10s = %.2f' % (key, value)\n",
    "print(formatted)\n",
    "\n",
    "#output my_var     = 1.23"
   ]
  },
  {
   "cell_type": "markdown",
   "metadata": {},
   "source": [
    "However, if you interchange the key and value, a runtime exception will occur:"
   ]
  },
  {
   "cell_type": "code",
   "execution_count": 15,
   "metadata": {},
   "outputs": [
    {
     "ename": "TypeError",
     "evalue": "must be real number, not str",
     "output_type": "error",
     "traceback": [
      "\u001b[1;31m---------------------------------------------------------------------------\u001b[0m",
      "\u001b[1;31mTypeError\u001b[0m                                 Traceback (most recent call last)",
      "\u001b[1;32mc:\\Users\\24419222_admin\\OneDrive - UTS\\Documents\\GitHub\\EffectivePython\\src\\Pythonic_Thinking.ipynb Cell 22\u001b[0m line \u001b[0;36m1\n\u001b[1;32m----> <a href='vscode-notebook-cell:/c%3A/Users/24419222_admin/OneDrive%20-%20UTS/Documents/GitHub/EffectivePython/src/Pythonic_Thinking.ipynb#X32sZmlsZQ%3D%3D?line=0'>1</a>\u001b[0m reordered_tuple \u001b[39m=\u001b[39m \u001b[39m'\u001b[39;49m\u001b[39m%-10s\u001b[39;49;00m\u001b[39m = \u001b[39;49m\u001b[39m%.2f\u001b[39;49;00m\u001b[39m'\u001b[39;49m \u001b[39m%\u001b[39;49m (value, key)\n\u001b[0;32m      <a href='vscode-notebook-cell:/c%3A/Users/24419222_admin/OneDrive%20-%20UTS/Documents/GitHub/EffectivePython/src/Pythonic_Thinking.ipynb#X32sZmlsZQ%3D%3D?line=2'>3</a>\u001b[0m \u001b[39m#output Traceback ...\u001b[39;00m\n\u001b[0;32m      <a href='vscode-notebook-cell:/c%3A/Users/24419222_admin/OneDrive%20-%20UTS/Documents/GitHub/EffectivePython/src/Pythonic_Thinking.ipynb#X32sZmlsZQ%3D%3D?line=3'>4</a>\u001b[0m \u001b[39m#output TypeError: must be real number, not str\u001b[39;00m\n",
      "\u001b[1;31mTypeError\u001b[0m: must be real number, not str"
     ]
    }
   ],
   "source": [
    "reordered_tuple = '%-10s = %.2f' % (value, key)\n",
    "\n",
    "#output Traceback ...\n",
    "#output TypeError: must be real number, not str"
   ]
  },
  {
   "cell_type": "markdown",
   "metadata": {},
   "source": [
    "Likewise, retaining the original sequence of parameters on the right side while altering the format string also leads to the same type of error:"
   ]
  },
  {
   "cell_type": "code",
   "execution_count": 17,
   "metadata": {},
   "outputs": [
    {
     "ename": "TypeError",
     "evalue": "must be real number, not str",
     "output_type": "error",
     "traceback": [
      "\u001b[1;31m---------------------------------------------------------------------------\u001b[0m",
      "\u001b[1;31mTypeError\u001b[0m                                 Traceback (most recent call last)",
      "\u001b[1;32mc:\\Users\\24419222_admin\\OneDrive - UTS\\Documents\\GitHub\\EffectivePython\\src\\Pythonic_Thinking.ipynb Cell 24\u001b[0m line \u001b[0;36m1\n\u001b[1;32m----> <a href='vscode-notebook-cell:/c%3A/Users/24419222_admin/OneDrive%20-%20UTS/Documents/GitHub/EffectivePython/src/Pythonic_Thinking.ipynb#X34sZmlsZQ%3D%3D?line=0'>1</a>\u001b[0m reordered_string \u001b[39m=\u001b[39m \u001b[39m'\u001b[39;49m\u001b[39m%.2f\u001b[39;49;00m\u001b[39m = \u001b[39;49m\u001b[39m%-10s\u001b[39;49;00m\u001b[39m'\u001b[39;49m \u001b[39m%\u001b[39;49m (key, value)\n\u001b[0;32m      <a href='vscode-notebook-cell:/c%3A/Users/24419222_admin/OneDrive%20-%20UTS/Documents/GitHub/EffectivePython/src/Pythonic_Thinking.ipynb#X34sZmlsZQ%3D%3D?line=2'>3</a>\u001b[0m \u001b[39m#output Traceback ...\u001b[39;00m\n\u001b[0;32m      <a href='vscode-notebook-cell:/c%3A/Users/24419222_admin/OneDrive%20-%20UTS/Documents/GitHub/EffectivePython/src/Pythonic_Thinking.ipynb#X34sZmlsZQ%3D%3D?line=3'>4</a>\u001b[0m \u001b[39m#output TypeError: must be real number, not str\u001b[39;00m\n",
      "\u001b[1;31mTypeError\u001b[0m: must be real number, not str"
     ]
    }
   ],
   "source": [
    "reordered_string = '%.2f = %-10s' % (key, value)\n",
    "\n",
    "#output Traceback ...\n",
    "#output TypeError: must be real number, not str"
   ]
  },
  {
   "cell_type": "markdown",
   "metadata": {},
   "source": [
    "To sidestep this issue, you must continually ensure that both sides of the `%` operator are aligned, which is a cumbersome and error-prone task given that it requires manual verification for each modification.\n",
    "\n",
    "The second drawback of using C-style formatting in Python is that the expressions become hard to decipher when minor adjustments to values are needed prior to incorporating them into a string—a requirement that is often encountered. For example, consider listing the items in my kitchen pantry without making any inline alterations:"
   ]
  },
  {
   "cell_type": "code",
   "execution_count": 18,
   "metadata": {},
   "outputs": [
    {
     "name": "stdout",
     "output_type": "stream",
     "text": [
      "#0: avocados   = 1.25\n",
      "#1: bananas    = 2.50\n",
      "#2: cherries   = 15.00\n"
     ]
    }
   ],
   "source": [
    "pantry = [\n",
    "    ('avocados', 1.25),\n",
    "    ('bananas', 2.5),\n",
    "    ('cherries', 15),\n",
    "]\n",
    "for i, (item, count) in enumerate(pantry):\n",
    "    print('#%d: %-10s = %.2f' % (i, item, count))\n",
    "\n",
    "#0: avocados    = 1.25\n",
    "#1: bananas     = 2.50\n",
    "#2: cherries    = 15.00"
   ]
  },
  {
   "cell_type": "markdown",
   "metadata": {},
   "source": [
    "Upon making several adjustments to the values I'm formatting to improve the informativeness of the output message, the tuple involved in the formatting expression becomes so lengthy that it necessitates being divided over multiple lines, thereby compromising readability."
   ]
  },
  {
   "cell_type": "code",
   "execution_count": 19,
   "metadata": {},
   "outputs": [
    {
     "name": "stdout",
     "output_type": "stream",
     "text": [
      "#1: Avocados   = 1\n",
      "#2: Bananas    = 2\n",
      "#3: Cherries   = 15\n"
     ]
    }
   ],
   "source": [
    "for i, (item, count) in enumerate(pantry):\n",
    "    print('#%d: %-10s = %d' % (\n",
    "        i + 1,\n",
    "        item.title(),\n",
    "        round(count)))\n",
    "\n",
    "#1: Avocados   = 1\n",
    "#2: Bananas    = 2\n",
    "#3: Cherries   = 15"
   ]
  },
  {
   "cell_type": "markdown",
   "metadata": {},
   "source": [
    "The third issue with formatting expressions is that if you intend to utilize the same value multiple times within a format string, it necessitates duplicating that value in the tuple on the right-hand side:"
   ]
  },
  {
   "cell_type": "code",
   "execution_count": 20,
   "metadata": {},
   "outputs": [
    {
     "name": "stdout",
     "output_type": "stream",
     "text": [
      "Max loves food. See Max cook.\n"
     ]
    }
   ],
   "source": [
    "template = '%s loves food. See %s cook.'\n",
    "name = 'Max'\n",
    "formatted = template % (name, name)\n",
    "print(formatted)\n",
    "# Max loves food. See Max cook."
   ]
  },
  {
   "cell_type": "markdown",
   "metadata": {},
   "source": [
    "This is especially annoying and error prone if you have to repeat small modifications to the values being formatted. For example, here I remembered to call the title() method multiple times, but I could have easily added the method call to one reference to name and not the other, which would cause mismatched output:"
   ]
  },
  {
   "cell_type": "code",
   "execution_count": 21,
   "metadata": {},
   "outputs": [
    {
     "name": "stdout",
     "output_type": "stream",
     "text": [
      "Brad loves food. See Brad cook.\n"
     ]
    }
   ],
   "source": [
    "name = 'brad'\n",
    "formatted = template % (name.title(), name.title())\n",
    "print(formatted)"
   ]
  },
  {
   "cell_type": "markdown",
   "metadata": {},
   "source": [
    "To help solve some of these problems, the % operator in Python has the ability to also do formatting with a dictionary instead of a tuple. The keys from the dictionary are matched with format specifiers with the corresponding name, such as %(key)s. Here, I use this functionality to change the order of values on the right side of the formatting expression with no effect on the output, thus solving problem #1 from above:"
   ]
  },
  {
   "cell_type": "code",
   "execution_count": 22,
   "metadata": {},
   "outputs": [],
   "source": [
    "key = 'my_var'\n",
    "value = 1.234\n",
    "\n",
    "old_way = '%-10s = %.2f' % (key, value)\n",
    "\n",
    "new_way = '%(key)-10s = %(value).2f' % {\n",
    "    'key': key, 'value': value} # Original\n",
    "\n",
    "reordered = '%(key)-10s = %(value).2f' % {\n",
    "    'value': value, 'key': key} # Swapped\n",
    "\n",
    "assert old_way == new_way == reordered"
   ]
  },
  {
   "cell_type": "markdown",
   "metadata": {},
   "source": [
    "Using dictionaries in formatting expressions also solves problem #3 from above by allowing multiple format specifiers to reference the same value, thus making it unnecessary to supply that value more than once:"
   ]
  },
  {
   "cell_type": "code",
   "execution_count": 23,
   "metadata": {},
   "outputs": [],
   "source": [
    "name = 'Max'\n",
    "\n",
    "\n",
    "template = '%s loves food. See %s cook.'\n",
    "before = template % (name, name) # Tuple\n",
    "\n",
    "\n",
    "template = '%(name)s loves food. See %(name)s cook.'\n",
    "after = template % {'name': name} # Dictionary\n",
    "\n",
    "\n",
    "assert before == after"
   ]
  },
  {
   "cell_type": "markdown",
   "metadata": {},
   "source": [
    "Nonetheless, employing dictionary format strings brings about new challenges while amplifying existing ones. Specifically, for the second issue mentioned earlier, which pertains to minor adjustments to values before formatting, the use of dictionaries makes formatting expressions more verbose and visually cluttered due to the inclusion of dictionary keys and the colon operator on the right-hand side. To illustrate this issue, let's consider rendering the same string both with and without using dictionaries:"
   ]
  },
  {
   "cell_type": "code",
   "execution_count": 24,
   "metadata": {},
   "outputs": [],
   "source": [
    "for i, (item, count) in enumerate(pantry):\n",
    "    before = '#%d: %-10s = %d' % (\n",
    "        i + 1,\n",
    "        item.title(),\n",
    "        round(count))\n",
    "\n",
    "    after = '#%(loop)d: %(item)-10s = %(count)d' % {\n",
    "        'loop': i + 1,\n",
    "        'item': item.title(),\n",
    "        'count': round(count),\n",
    "    }\n",
    "\n",
    "    assert before == after"
   ]
  },
  {
   "cell_type": "markdown",
   "metadata": {},
   "source": [
    "Incorporating dictionaries into formatting expressions further escalates verbosity, constituting the fourth issue with C-style formatting in Python. Each key needs to be declared at least twice: once within the format specifier and once as a dictionary key. Additionally, it may require a third mention for the variable name holding the dictionary value:"
   ]
  },
  {
   "cell_type": "code",
   "execution_count": 25,
   "metadata": {},
   "outputs": [
    {
     "name": "stdout",
     "output_type": "stream",
     "text": [
      "Today's soup is lentil.\n"
     ]
    }
   ],
   "source": [
    "soup = 'lentil'\n",
    "formatted = 'Today\\'s soup is %(soup)s.' % {'soup': soup}\n",
    "print(formatted)"
   ]
  },
  {
   "cell_type": "markdown",
   "metadata": {},
   "source": [
    "In addition to the repetitiveness of the characters, this redundancy results in protracted formatting expressions when dictionaries are utilized. These expressions commonly require extension over multiple lines, with the format strings being strung across these lines and each dictionary value assignment usually taking up a separate line for formatting purposes."
   ]
  },
  {
   "cell_type": "code",
   "execution_count": 26,
   "metadata": {},
   "outputs": [
    {
     "name": "stdout",
     "output_type": "stream",
     "text": [
      "Today's soup is lentil, buy one get two kumamoto oysters, and our special entrée is schnitzel.\n"
     ]
    }
   ],
   "source": [
    "menu = {\n",
    "    'soup': 'lentil',\n",
    "    'oyster': 'kumamoto',\n",
    "    'special': 'schnitzel',\n",
    "}\n",
    "template = ('Today\\'s soup is %(soup)s, '\n",
    "            'buy one get two %(oyster)s oysters, '\n",
    "            'and our special entrée is %(special)s.')\n",
    "formatted = template % menu\n",
    "print(formatted)"
   ]
  },
  {
   "cell_type": "markdown",
   "metadata": {},
   "source": [
    "To grasp the output of such a formatting expression, one has to constantly toggle visual focus between the lines of the format string and the lines where the dictionary values are assigned. This lack of cohesion complicates bug detection and further diminishes readability, especially if minor adjustments to any values are required prior to formatting.\n",
    "\n",
    "Surely, there has to be a more efficient approach."
   ]
  },
  {
   "cell_type": "markdown",
   "metadata": {},
   "source": [
    "### The `format` Built-In Function and `str.format`\n",
    "\n",
    "Python 3 incorporated a more expressive string formatting system that goes beyond the capabilities of the older C-style format strings using the `%` operator. This updated feature can be leveraged through the built-in `format` function for individual Python values. As an illustration, I employ some of the newly available options (such as `,` for thousands separators and `^` for centering) to format values:"
   ]
  },
  {
   "cell_type": "code",
   "execution_count": 27,
   "metadata": {},
   "outputs": [
    {
     "name": "stdout",
     "output_type": "stream",
     "text": [
      "1,234.57\n",
      "*      my string       *\n"
     ]
    }
   ],
   "source": [
    "a = 1234.5678\n",
    "formatted = format(a, ',.2f')\n",
    "print(formatted)\n",
    "\n",
    "b = 'my string'\n",
    "formatted = format(b, '^20s')\n",
    "print('*', formatted, '*')"
   ]
  },
  {
   "cell_type": "markdown",
   "metadata": {},
   "source": [
    "This enhanced functionality can be applied to format several values collectively by invoking the new `format` method associated with the `str` type. Rather than employing C-style format specifiers such as `%d`, you can designate placeholders using `{}`. By default, these placeholders in the format string are substituted by the respective positional arguments provided to the `format` method, in the sequence they are presented:"
   ]
  },
  {
   "cell_type": "code",
   "execution_count": 28,
   "metadata": {},
   "outputs": [
    {
     "name": "stdout",
     "output_type": "stream",
     "text": [
      "my_var = 1.234\n"
     ]
    }
   ],
   "source": [
    "key = 'my_var'\n",
    "value = 1.234\n",
    "\n",
    "formatted = '{} = {}'.format(key, value)\n",
    "print(formatted)"
   ]
  },
  {
   "cell_type": "markdown",
   "metadata": {},
   "source": [
    "Inside each placeholder, you have the option to include a colon character, followed by format specifiers, to tailor how the values will be transformed into strings. For a comprehensive list of available options, you can refer to `help('FORMATTING')`:"
   ]
  },
  {
   "cell_type": "markdown",
   "metadata": {},
   "source": []
  }
 ],
 "metadata": {
  "kernelspec": {
   "display_name": "pythonian",
   "language": "python",
   "name": "python3"
  },
  "language_info": {
   "codemirror_mode": {
    "name": "ipython",
    "version": 3
   },
   "file_extension": ".py",
   "mimetype": "text/x-python",
   "name": "python",
   "nbconvert_exporter": "python",
   "pygments_lexer": "ipython3",
   "version": "3.11.4"
  }
 },
 "nbformat": 4,
 "nbformat_minor": 2
}
